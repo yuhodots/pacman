{
 "cells": [
  {
   "cell_type": "markdown",
   "metadata": {
    "collapsed": true,
    "pycharm": {
     "name": "#%% md\n"
    }
   },
   "source": [
    "# Reinforcement Learning Project\n",
    "\n",
    "\n",
    "> AI51201 & IE51401 at UNIST (Fall 2021)"
   ]
  },
  {
   "cell_type": "markdown",
   "metadata": {},
   "source": [
    "## Import modules"
   ]
  },
  {
   "cell_type": "code",
   "execution_count": 23,
   "metadata": {
    "pycharm": {
     "name": "#%%\n"
    }
   },
   "outputs": [
    {
     "ename": "ValueError",
     "evalue": "attempted relative import beyond top-level package",
     "output_type": "error",
     "traceback": [
      "\u001B[0;31m---------------------------------------------------------------------------\u001B[0m",
      "\u001B[0;31mValueError\u001B[0m                                Traceback (most recent call last)",
      "\u001B[0;32m<ipython-input-23-1b423c874000>\u001B[0m in \u001B[0;36m<module>\u001B[0;34m\u001B[0m\n\u001B[1;32m      5\u001B[0m \u001B[0mget_ipython\u001B[0m\u001B[0;34m(\u001B[0m\u001B[0;34m)\u001B[0m\u001B[0;34m.\u001B[0m\u001B[0mrun_line_magic\u001B[0m\u001B[0;34m(\u001B[0m\u001B[0;34m'matplotlib'\u001B[0m\u001B[0;34m,\u001B[0m \u001B[0;34m'inline'\u001B[0m\u001B[0;34m)\u001B[0m\u001B[0;34m\u001B[0m\u001B[0;34m\u001B[0m\u001B[0m\n\u001B[1;32m      6\u001B[0m \u001B[0;32mfrom\u001B[0m \u001B[0mgym\u001B[0m \u001B[0;32mimport\u001B[0m \u001B[0mspaces\u001B[0m\u001B[0;34m\u001B[0m\u001B[0;34m\u001B[0m\u001B[0m\n\u001B[0;32m----> 7\u001B[0;31m \u001B[0;32mfrom\u001B[0m \u001B[0;34m.\u001B[0m\u001B[0;34m.\u001B[0m\u001B[0menv\u001B[0m \u001B[0;32mimport\u001B[0m \u001B[0mGridEnv\u001B[0m\u001B[0;34m\u001B[0m\u001B[0;34m\u001B[0m\u001B[0m\n\u001B[0m",
      "\u001B[0;31mValueError\u001B[0m: attempted relative import beyond top-level package"
     ]
    }
   ],
   "source": [
    "import gym\n",
    "import numpy as np\n",
    "import matplotlib\n",
    "import matplotlib.pyplot as plt\n",
    "%matplotlib inline\n",
    "from gym import spaces\n",
    "from ..env import GridEnv"
   ]
  },
  {
   "cell_type": "markdown",
   "metadata": {},
   "source": [
    "## Environment"
   ]
  },
  {
   "cell_type": "markdown",
   "metadata": {},
   "source": [
    "- World shape = 11 x 11\n",
    "- Pac-man start position = [10, 5]\n",
    "- Ghost start position = [[1, 5], [6, 5]]\n",
    "- Start position = [[0, 0], [0, 10]]\n",
    "- Action space = up(0), down(1), left(2), right(3) \n",
    "- Observation space = empty(0), coin(1), star(2), ghost(3), wall(4, Not used)\n",
    "- Agent render = agent(-1)"
   ]
  },
  {
   "cell_type": "markdown",
   "metadata": {},
   "source": [
    "- Wall = [[0, 5], [1, 1], [1, 2], [1, 3], [1, 7], [1, 8], [1, 9], [2, 5], [3, 1], [3, 3], [3, 5], [3, 7], [3, 9], [4, 1], [4, 3], [4, 7], [4, 9], [5, 1], [5, 3], [5, 4], [5, 5], [5, 6], [5, 7], [5, 9], [6, 1], [6, 9], [7, 3], [7, 4], [7, 6], [7, 7], [8, 1], [8, 4], [8, 6], [8, 9], [9, 1], [9, 2], [9, 4], [9, 6], [9, 8], [9, 9]]\n",
    "- Ghost's load = [[1, 4], [1, 5], [1, 6], [6, 2], [6, 3], [6, 4], [6, 5], [6, 6], [6, 7], [6, 8]]"
   ]
  },
  {
   "cell_type": "code",
   "execution_count": null,
   "metadata": {
    "pycharm": {
     "name": "#%%\n"
    }
   },
   "outputs": [],
   "source": [
    "env = GridEnv()\n",
    "\n",
    "    for i_episode in range(50):\n",
    "        env.reset()\n",
    "        print(\"Reset env.\")\n",
    "        env.render()\n",
    "\n",
    "        for t in range(200):\n",
    "            action = env.action_space.sample()\n",
    "            print(\"action: {}\".format(action))\n",
    "            obs, reward, done, info = env.step(action)\n",
    "            print(\"obs: {}, reward:{}, done:{}\".format(obs, reward, done))\n",
    "            env.render()\n",
    "\n",
    "            env.step_ghost()\n",
    "\n",
    "            if done:\n",
    "                print(\"Episode finished after {} timesteps\\n\".format(t + 1))\n",
    "                break\n",
    "\n",
    "    env.close()"
   ]
  }
 ],
 "metadata": {
  "kernelspec": {
   "display_name": "Python 3",
   "language": "python",
   "name": "python3"
  },
  "language_info": {
   "codemirror_mode": {
    "name": "ipython",
    "version": 3
   },
   "file_extension": ".py",
   "mimetype": "text/x-python",
   "name": "python",
   "nbconvert_exporter": "python",
   "pygments_lexer": "ipython3",
   "version": "3.7.3"
  },
  "toc": {
   "base_numbering": 1,
   "nav_menu": {},
   "number_sections": false,
   "sideBar": true,
   "skip_h1_title": false,
   "title_cell": "Table of Contents",
   "title_sidebar": "Contents",
   "toc_cell": false,
   "toc_position": {},
   "toc_section_display": true,
   "toc_window_display": true
  }
 },
 "nbformat": 4,
 "nbformat_minor": 1
}